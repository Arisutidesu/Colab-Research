{
  "nbformat": 4,
  "nbformat_minor": 0,
  "metadata": {
    "colab": {
      "provenance": []
    },
    "kernelspec": {
      "name": "python3",
      "display_name": "Python 3"
    },
    "language_info": {
      "name": "python"
    }
  },
  "cells": [
    {
      "cell_type": "code",
      "execution_count": null,
      "metadata": {
        "id": "ue0UVJqTckqp"
      },
      "outputs": [],
      "source": [
        "import math\n",
        "\n",
        "def eksponensial (x,n) :\n",
        "    sum=1\n",
        "    for i in range(1,n):\n",
        "        if i%2 == 0:\n",
        "            sum = sum + (x**i)/math.factorial(i)\n",
        "        else :\n",
        "            sum = sum - (x**i)/math.factorial(i)\n",
        "    return sum"
      ]
    },
    {
      "cell_type": "code",
      "source": [
        "#inisiasi\n",
        "x=5\n",
        "et=100 #True Error\n",
        "ea=100 #approximation error\n",
        "true = 6.737947 * 10**-3 #nilai true e^-5\n",
        "i=1\n",
        "old = 0\n",
        "#loop\n",
        "for i in range (20):\n",
        "    new = eksponensial(x,i)\n",
        "    ea = abs( (new - old) / new ) * 100\n",
        "    et = abs( (true - new) / true ) * 100\n",
        "    old = new\n",
        "\n",
        "print(\"Soal 3.6 - Cara 1\")\n",
        "print(\"hasil e^-x adalah :\", new)\n",
        "print(\"Nilai True Error :\", et, \"%\")\n",
        "print(\"Nilai aprox Error :\", ea, \"%\")"
      ],
      "metadata": {
        "colab": {
          "base_uri": "https://localhost:8080/"
        },
        "id": "UbC19QJ9c-yv",
        "outputId": "1089d8d4-e18a-4189-b72d-d1f407a54937"
      },
      "execution_count": null,
      "outputs": [
        {
          "output_type": "stream",
          "name": "stdout",
          "text": [
            "Soal 3.6 - Cara 1\n",
            "hasil e^-x adalah : 148.4129510721643\n",
            "Nilai True Error : 2202543.4917366416 %\n",
            "Nilai aprox Error : 0.000401464600523576 %\n"
          ]
        }
      ]
    },
    {
      "cell_type": "code",
      "source": [
        "import math\n",
        "\n",
        "def eksponensial (x,n) :\n",
        "    sum=1\n",
        "    for i in range(1,n):\n",
        "        sum = sum + (x**i)/math.factorial(i)\n",
        "    return sum"
      ],
      "metadata": {
        "id": "Fj8Q0K9-dDaF"
      },
      "execution_count": null,
      "outputs": []
    },
    {
      "cell_type": "code",
      "source": [
        "#inisiasi\n",
        "x=5\n",
        "et=100 #True Error\n",
        "ea=100 #approximation error\n",
        "true = 6.737947 * 10**-3\n",
        "i=1\n",
        "old = 0\n",
        "#loop\n",
        "for i in range (20):\n",
        "    new = 1/eksponensial(x,i)\n",
        "    ea = abs( (new - old) / new ) * 100\n",
        "    et = abs( (true - new) / true ) * 100\n",
        "    old = new\n",
        "\n",
        "print(\"Soal 3.6 - Cara 2\")\n",
        "print(\"hasil e^-x adalah :\", new)\n",
        "print(\"Nilai True Error :\", et, \"%\")\n",
        "print(\"Nilai aprox Error :\", ea, \"%\")"
      ],
      "metadata": {
        "colab": {
          "base_uri": "https://localhost:8080/"
        },
        "id": "g2bMMbLBdSRR",
        "outputId": "4ef0ccd7-3bc2-4f64-af16-556b5cb27bda"
      },
      "execution_count": null,
      "outputs": [
        {
          "output_type": "stream",
          "name": "stdout",
          "text": [
            "Soal 3.6 - Cara 2\n",
            "hasil e^-x adalah : 0.006737956443664812\n",
            "Nilai True Error : 0.0001401564128057605 %\n",
            "Nilai aprox Error : 0.0004014662122671457 %\n"
          ]
        }
      ]
    }
  ]
}